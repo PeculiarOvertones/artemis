{
 "cells": [
  {
   "cell_type": "code",
   "execution_count": 24,
   "metadata": {},
   "outputs": [],
   "source": [
    "#import pandas as pd\n",
    "import numpy as np\n",
    "import matplotlib\n",
    "import matplotlib.pyplot as plt\n",
    "\n",
    "import matplotlib.ticker as ticker\n",
    "from matplotlib.ticker import MaxNLocator\n",
    "from matplotlib.ticker import (MultipleLocator, FormatStrFormatter,\n",
    "                               AutoMinorLocator)\n",
    "import matplotlib.colors as colors\n",
    "from matplotlib import rc\n",
    "plt.rcParams[\"font.serif\"]       = 'Times New Roman'\n",
    "plt.rcParams[\"xtick.major.size\"] = 10\n",
    "plt.rcParams[\"ytick.major.size\"] = 10\n",
    "plt.rcParams[\"xtick.minor.size\"] = 5\n",
    "plt.rcParams[\"ytick.minor.size\"] = 5\n",
    "plt.rcParams[\"xtick.labelsize\"]  = 35\n",
    "plt.rcParams[\"ytick.labelsize\"]  = 35\n",
    "\n",
    "plt.rcParams[\"legend.title_fontsize\"]=35\n",
    "import sys\n",
    "import string"
   ]
  },
  {
   "cell_type": "code",
   "execution_count": 35,
   "metadata": {},
   "outputs": [
    {
     "name": "stdout",
     "output_type": "stream",
     "text": [
      "warpx.reduced_diags_names = L1S1 L1S2 L1S3 L1S4 L2S5 L2S6 L2S7 L2S8 \n"
     ]
    }
   ],
   "source": [
    "numYLocs=2\n",
    "numSurfs = numYLocs*4\n",
    "surfName=np.empty(numSurfs, dtype=object)\n",
    "reduced_diags_names_str = 'warpx.reduced_diags_names = ' \n",
    "for s in range(0, numSurfs):\n",
    "    surfName[s] = 'L'+ str(int(s/4)+1)+'S'+str(s+1)\n",
    "    reduced_diags_names_str += surfName[s] + ' '\n",
    "print(reduced_diags_names_str)"
   ]
  },
  {
   "cell_type": "code",
   "execution_count": null,
   "metadata": {},
   "outputs": [],
   "source": [
    "#Choose distance\n",
    "for s in range(0, numSurfs):\n"
   ]
  },
  {
   "cell_type": "code",
   "execution_count": 36,
   "metadata": {},
   "outputs": [],
   "source": [
    "type_str = \".type = RawBFIeldReduction\"\n",
    "red_type_str = \".reduction_type = integral\"\n",
    "int_type_str = \".integration_type = surface\"\n",
    "inter_str = \".intervals = 1\"\n",
    "surf_normal_str = \".surface_normal = Y\"\n",
    "const_str = \"my_constants.\""
   ]
  },
  {
   "cell_type": "code",
   "execution_count": 37,
   "metadata": {},
   "outputs": [],
   "source": [
    "with open('data.dat', 'w') as f:\n",
    "    print(reduced_diags_names_str,file=f)\n",
    "    for s in range (0,numSurfs):\n",
    "        print('\\n',file=f)\n",
    "        if(s%4==0):\n",
    "            print('#Location ' + str(int(s/4)+1),file=f)\n",
    "        print(surfName[s] + type_str,file=f)\n",
    "        print(surfName[s] + red_type_str,file=f)\n",
    "        print(surfName[s] + int_type_str,file=f)\n",
    "        print(surfName[s] + inter_str,file=f)\n",
    "        print(surfName[s] + surf_normal_str,file=f)"
   ]
  },
  {
   "cell_type": "code",
   "execution_count": null,
   "metadata": {},
   "outputs": [],
   "source": []
  }
 ],
 "metadata": {
  "kernelspec": {
   "display_name": "Python 3",
   "language": "python",
   "name": "python3"
  },
  "language_info": {
   "codemirror_mode": {
    "name": "ipython",
    "version": 3
   },
   "file_extension": ".py",
   "mimetype": "text/x-python",
   "name": "python",
   "nbconvert_exporter": "python",
   "pygments_lexer": "ipython3",
   "version": "3.8.10"
  }
 },
 "nbformat": 4,
 "nbformat_minor": 4
}
