{
 "cells": [
  {
   "cell_type": "code",
   "execution_count": 38,
   "metadata": {},
   "outputs": [],
   "source": [
    "#import pandas as pd\n",
    "import numpy as np\n",
    "import matplotlib\n",
    "import matplotlib.pyplot as plt\n",
    "\n",
    "import matplotlib.ticker as ticker\n",
    "from matplotlib.ticker import MaxNLocator\n",
    "from matplotlib.ticker import (MultipleLocator, FormatStrFormatter,\n",
    "                               AutoMinorLocator)\n",
    "import matplotlib.colors as colors\n",
    "from matplotlib import rc\n",
    "plt.rcParams[\"font.serif\"]       = 'Times New Roman'\n",
    "plt.rcParams[\"xtick.major.size\"] = 10\n",
    "plt.rcParams[\"ytick.major.size\"] = 10\n",
    "plt.rcParams[\"xtick.minor.size\"] = 5\n",
    "plt.rcParams[\"ytick.minor.size\"] = 5\n",
    "plt.rcParams[\"xtick.labelsize\"]  = 35\n",
    "plt.rcParams[\"ytick.labelsize\"]  = 35\n",
    "\n",
    "plt.rcParams[\"legend.title_fontsize\"]=35\n",
    "import sys\n",
    "import string"
   ]
  },
  {
   "cell_type": "code",
   "execution_count": 39,
   "metadata": {},
   "outputs": [],
   "source": [
    "flag_define_ESurfInt=1 #1 if you want to define surfaces to obtain efield surface integral else 0\n",
    "flag_define_EVolumeInt=1 #1 if you want to define volumes to obtain eField volume integral else 0\n",
    "flag_define_BSurfInt=1 #1 if you want to define surfaces to obtain bfield surface integral else 0\n",
    "flag_define_BVolumeInt=1 #1 if you want to define volumes to obtain bField volume integral else 0\n",
    "fileName='fieldReductionInput_6x_XInfinite.dat'\n",
    "numYLocs_ESurfInt = 41 #Choose an odd number\n",
    "numYLocs_BSurfInt = numYLocs_ESurfInt\n",
    "numEVolumes=1\n",
    "numBVolumes=1"
   ]
  },
  {
   "cell_type": "code",
   "execution_count": 40,
   "metadata": {},
   "outputs": [
    {
     "name": "stdout",
     "output_type": "stream",
     "text": [
      "2050.903\n",
      "795774.715\n"
     ]
    }
   ],
   "source": [
    "sub_thick=5e-4\n",
    "strip_width=0.97518*sub_thick\n",
    "strip_width_inv=round(1./strip_width,3)\n",
    "mu_0=1.25663706212e-06\n",
    "mu_0_inv = round(1./mu_0,4)\n",
    "print(strip_width_inv)\n",
    "print(mu_0_inv)"
   ]
  },
  {
   "cell_type": "markdown",
   "metadata": {},
   "source": [
    "\n",
    "# Define EField contour integral around a conductor using RawEFieldReduction"
   ]
  },
  {
   "cell_type": "code",
   "execution_count": 41,
   "metadata": {},
   "outputs": [
    {
     "name": "stdout",
     "output_type": "stream",
     "text": [
      "warpx.reduced_diags_names = ESurf_L1S1 ESurf_L2S1 ESurf_L3S1 ESurf_L4S1 ESurf_L5S1 ESurf_L6S1 ESurf_L7S1 ESurf_L8S1 ESurf_L9S1 ESurf_L10S1 ESurf_L11S1 ESurf_L12S1 ESurf_L13S1 ESurf_L14S1 ESurf_L15S1 ESurf_L16S1 ESurf_L17S1 ESurf_L18S1 ESurf_L19S1 ESurf_L20S1 ESurf_L21S1 ESurf_L22S1 ESurf_L23S1 ESurf_L24S1 ESurf_L25S1 ESurf_L26S1 ESurf_L27S1 ESurf_L28S1 ESurf_L29S1 ESurf_L30S1 ESurf_L31S1 ESurf_L32S1 ESurf_L33S1 ESurf_L34S1 ESurf_L35S1 ESurf_L36S1 ESurf_L37S1 ESurf_L38S1 ESurf_L39S1 ESurf_L40S1 ESurf_L41S1 \n",
      "locations:  ['dy' '0.025*Ly' '0.05*Ly' '0.075*Ly' '0.1*Ly' '0.125*Ly' '0.15*Ly'\n",
      " '0.175*Ly' '0.2*Ly' '0.225*Ly' '0.25*Ly' '0.275*Ly' '0.3*Ly' '0.325*Ly'\n",
      " '0.35*Ly' '0.375*Ly' '0.4*Ly' '0.425*Ly' '0.45*Ly' '0.475*Ly' '0.5*Ly'\n",
      " '0.525*Ly' '0.55*Ly' '0.575*Ly' '0.6*Ly' '0.625*Ly' '0.65*Ly' '0.675*Ly'\n",
      " '0.7*Ly' '0.725*Ly' '0.75*Ly' '0.775*Ly' '0.8*Ly' '0.825*Ly' '0.85*Ly'\n",
      " '0.875*Ly' '0.9*Ly' '0.925*Ly' '0.95*Ly' '0.975*Ly' 'Ly-2*dy']\n"
     ]
    }
   ],
   "source": [
    "numSurfsPerYLoc_ESurfInt=1\n",
    "numSurfs_ESurfInt = numYLocs_ESurfInt*numSurfsPerYLoc_ESurfInt\n",
    "eSurfName=np.empty(numSurfs_ESurfInt, dtype=object)\n",
    "reduced_diags_name_str = 'warpx.reduced_diags_names = ' \n",
    "reduced_diags_names_efield_surface_str = ''\n",
    "for l in range(0, numYLocs_ESurfInt):\n",
    "    for s in range(0, numSurfsPerYLoc_ESurfInt):\n",
    "        eSurfName[l*numSurfsPerYLoc_ESurfInt+s] = 'ESurf_L'+ str(l+1)+'S'+str(s+1)\n",
    "        reduced_diags_names_efield_surface_str += eSurfName[l*numSurfsPerYLoc_ESurfInt+s] + ' '\n",
    "print(reduced_diags_name_str + reduced_diags_names_efield_surface_str)\n",
    "\n",
    "\n",
    "#Choose distance\n",
    "#numUniformYLocs_BSurfInt=numYLocs_BSurfInt-10\n",
    "#distance_of_first_10={'dy', '3*dy', '6*dy', '9*dy', '12*dy', '15*dy', '18*dy', '21*dy', '24*dy', '27*dy', '30*dy'}\n",
    "\n",
    "distance_uniform_ESurfInt=np.empty(numYLocs_ESurfInt, dtype=object)\n",
    "distance_uniform_ESurfInt[0]='dy'\n",
    "distance_uniform_ESurfInt[numYLocs_ESurfInt-1]='Ly-2*dy'\n",
    "remainingLocs_ESurfInt=numYLocs_ESurfInt-2\n",
    "percent_step_ESurfInt = 100./(remainingLocs_ESurfInt+1)\n",
    "\n",
    "for l in range(1, numYLocs_ESurfInt-1):\n",
    "    distance_uniform_ESurfInt[l]= str(percent_step_ESurfInt*(l)/100) + '*Ly'\n",
    "    \n",
    "print('locations: ', distance_uniform_ESurfInt)"
   ]
  },
  {
   "cell_type": "code",
   "execution_count": 42,
   "metadata": {},
   "outputs": [],
   "source": [
    "eSurf_type_str = \".type = RawEFieldReduction\"\n",
    "eSurf_red_type_str = \".reduction_type = integral\"\n",
    "eSurf_int_type_str = \".integration_type = surface\"\n",
    "eSurf_inter_str = \".intervals = 1\"\n",
    "eSurf_surf_normal_str = \".surface_normal = y\"\n",
    "eSurf_const_str = \"my_constants.\"\n",
    "eSurf_port_mult_vec_str = \".scaling_factor = \"+str(strip_width_inv)+\" \"+str(strip_width_inv)+\" \"+str(strip_width_inv)\n",
    "eSurf_red_func_name_str = \".reduced_function(x,y,z) = \""
   ]
  },
  {
   "cell_type": "code",
   "execution_count": 43,
   "metadata": {},
   "outputs": [
    {
     "name": "stdout",
     "output_type": "stream",
     "text": [
      "*******************************************\n",
      "eSurf_port_func_str \" (y > ESurf_L1S1_Loc - dy/2. - tiny ) * (y < ESurf_L1S1_Loc + tiny) * (z > 0.) * ( z < sub_thick + tiny) *1\"\n",
      "*******************************************\n",
      "eSurf_port_func_str \" (y > ESurf_L2S1_Loc - dy/2. - tiny ) * (y < ESurf_L2S1_Loc + tiny) * (z > 0.) * ( z < sub_thick + tiny) *1\"\n"
     ]
    }
   ],
   "source": [
    "eSurf_port_func_str=np.empty(numYLocs_ESurfInt, dtype=object)\n",
    "for l in range(0, numYLocs_ESurfInt):\n",
    "    eSurf_port_func_str[l] = \"\\\" (y > \" + eSurfName[l*numSurfsPerYLoc_ESurfInt+0] + \"_Loc - dy/2. - tiny ) * (y < \" + eSurfName[l*numSurfsPerYLoc_ESurfInt+0] + \"_Loc + tiny) * (z > 0.) * ( z < sub_thick + tiny) *1\\\"\"\n",
    "for l in range(0, 2):\n",
    "    print('*******************************************')\n",
    "    print('eSurf_port_func_str', eSurf_port_func_str[l])"
   ]
  },
  {
   "cell_type": "markdown",
   "metadata": {},
   "source": [
    "# Define BField contour integral around a conductor using RawBFieldReduction"
   ]
  },
  {
   "cell_type": "code",
   "execution_count": 44,
   "metadata": {},
   "outputs": [
    {
     "name": "stdout",
     "output_type": "stream",
     "text": [
      "warpx.reduced_diags_names = BSurf_L1S1 BSurf_L1S2 BSurf_L2S1 BSurf_L2S2 BSurf_L3S1 BSurf_L3S2 BSurf_L4S1 BSurf_L4S2 BSurf_L5S1 BSurf_L5S2 BSurf_L6S1 BSurf_L6S2 BSurf_L7S1 BSurf_L7S2 BSurf_L8S1 BSurf_L8S2 BSurf_L9S1 BSurf_L9S2 BSurf_L10S1 BSurf_L10S2 BSurf_L11S1 BSurf_L11S2 BSurf_L12S1 BSurf_L12S2 BSurf_L13S1 BSurf_L13S2 BSurf_L14S1 BSurf_L14S2 BSurf_L15S1 BSurf_L15S2 BSurf_L16S1 BSurf_L16S2 BSurf_L17S1 BSurf_L17S2 BSurf_L18S1 BSurf_L18S2 BSurf_L19S1 BSurf_L19S2 BSurf_L20S1 BSurf_L20S2 BSurf_L21S1 BSurf_L21S2 BSurf_L22S1 BSurf_L22S2 BSurf_L23S1 BSurf_L23S2 BSurf_L24S1 BSurf_L24S2 BSurf_L25S1 BSurf_L25S2 BSurf_L26S1 BSurf_L26S2 BSurf_L27S1 BSurf_L27S2 BSurf_L28S1 BSurf_L28S2 BSurf_L29S1 BSurf_L29S2 BSurf_L30S1 BSurf_L30S2 BSurf_L31S1 BSurf_L31S2 BSurf_L32S1 BSurf_L32S2 BSurf_L33S1 BSurf_L33S2 BSurf_L34S1 BSurf_L34S2 BSurf_L35S1 BSurf_L35S2 BSurf_L36S1 BSurf_L36S2 BSurf_L37S1 BSurf_L37S2 BSurf_L38S1 BSurf_L38S2 BSurf_L39S1 BSurf_L39S2 BSurf_L40S1 BSurf_L40S2 BSurf_L41S1 BSurf_L41S2 \n",
      "['dy' '0.025*Ly' '0.05*Ly' '0.075*Ly' '0.1*Ly' '0.125*Ly' '0.15*Ly'\n",
      " '0.175*Ly' '0.2*Ly' '0.225*Ly' '0.25*Ly' '0.275*Ly' '0.3*Ly' '0.325*Ly'\n",
      " '0.35*Ly' '0.375*Ly' '0.4*Ly' '0.425*Ly' '0.45*Ly' '0.475*Ly' '0.5*Ly'\n",
      " '0.525*Ly' '0.55*Ly' '0.575*Ly' '0.6*Ly' '0.625*Ly' '0.65*Ly' '0.675*Ly'\n",
      " '0.7*Ly' '0.725*Ly' '0.75*Ly' '0.775*Ly' '0.8*Ly' '0.825*Ly' '0.85*Ly'\n",
      " '0.875*Ly' '0.9*Ly' '0.925*Ly' '0.95*Ly' '0.975*Ly' 'Ly-2*dy']\n"
     ]
    }
   ],
   "source": [
    "numSurfsPerYLoc_BSurfInt=2\n",
    "numSurfs_BSurfInt = numYLocs_BSurfInt*numSurfsPerYLoc_BSurfInt\n",
    "bSurfName=np.empty(numSurfs_BSurfInt, dtype=object)\n",
    "reduced_diags_name_str = 'warpx.reduced_diags_names = ' \n",
    "reduced_diags_names_bfield_surface_str = ''\n",
    "for l in range(0, numYLocs_BSurfInt):\n",
    "    for s in range(0, numSurfsPerYLoc_BSurfInt):\n",
    "        bSurfName[l*numSurfsPerYLoc_BSurfInt+s] = 'BSurf_L'+ str(l+1)+'S'+str(s+1)\n",
    "        reduced_diags_names_bfield_surface_str += bSurfName[l*numSurfsPerYLoc_BSurfInt+s] + ' '\n",
    "print(reduced_diags_name_str + reduced_diags_names_bfield_surface_str)\n",
    "\n",
    "#Choose distance\n",
    "distance_uniform_BSurfInt=np.empty(numYLocs_BSurfInt, dtype=object)\n",
    "distance_uniform_BSurfInt[0]='dy'\n",
    "distance_uniform_BSurfInt[numYLocs_BSurfInt-1]='Ly-2*dy'\n",
    "remainingLocs_BSurfInt=numYLocs_BSurfInt-2\n",
    "percent_step_BSurfInt = 100./(remainingLocs_BSurfInt+1)\n",
    "\n",
    "for l in range(1, numYLocs_BSurfInt-1):\n",
    "    distance_uniform_BSurfInt[l]= str(percent_step_BSurfInt*(l)/100) + '*Ly'\n",
    "    \n",
    "print(distance_uniform_BSurfInt)"
   ]
  },
  {
   "cell_type": "code",
   "execution_count": 45,
   "metadata": {},
   "outputs": [
    {
     "name": "stdout",
     "output_type": "stream",
     "text": [
      "*******************************************\n",
      "bottom surface \" (x > -Lx/2. - tiny) * (x < Lx/2. + tiny) * (y > BSurf_L1S1_Loc - dy/2. - tiny ) * (y < BSurf_L1S1_Loc + tiny) * (z > sub_thick - dz - tiny) * ( z < sub_thick) *1\"\n",
      "\n",
      "top surface \" (x > -Lx/2.  - tiny) * (x < Lx/2. + tiny) * (y > BSurf_L1S2_Loc - dy/2. - tiny ) * (y < BSurf_L1S2_Loc + tiny) * (z > sub_thick) * ( z < sub_thick + dz + tiny) *1\"\n",
      "*******************************************\n",
      "bottom surface \" (x > -Lx/2. - tiny) * (x < Lx/2. + tiny) * (y > BSurf_L2S1_Loc - dy/2. - tiny ) * (y < BSurf_L2S1_Loc + tiny) * (z > sub_thick - dz - tiny) * ( z < sub_thick) *1\"\n",
      "\n",
      "top surface \" (x > -Lx/2.  - tiny) * (x < Lx/2. + tiny) * (y > BSurf_L2S2_Loc - dy/2. - tiny ) * (y < BSurf_L2S2_Loc + tiny) * (z > sub_thick) * ( z < sub_thick + dz + tiny) *1\"\n"
     ]
    }
   ],
   "source": [
    "# Define string constants\n",
    "bSurf_type_str = \".type = RawBFieldReduction\"\n",
    "bSurf_red_type_str = \".reduction_type = integral\"\n",
    "bSurf_int_type_str = \".integration_type = surface\"\n",
    "bSurf_inter_str = \".intervals = 1\"\n",
    "bSurf_surf_normal_str = \".surface_normal = y\"\n",
    "bSurf_const_str = \"my_constants.\"\n",
    "bSurf_bottom_mult_vec_str = \".scaling_factor = -\"+str(mu_0_inv)+\" \"+str(mu_0_inv)+\" \"+str(mu_0_inv)\n",
    "#bSurf_left_mult_vec_str   = \".scaling_factor =  \"+str(mu_0_inv)+\" \"+str(mu_0_inv)+\" \"+str(mu_0_inv)\n",
    "bSurf_top_mult_vec_str    = \".scaling_factor =  \"+str(mu_0_inv)+\" \"+str(mu_0_inv)+\" \"+str(mu_0_inv)\n",
    "#bSurf_right_mult_vec_str  = \".scaling_factor =  \"+str(mu_0_inv)+\" \"+str(mu_0_inv)+\" -\"+str(mu_0_inv)\n",
    "bSurf_red_func_name_str = \".reduced_function(x,y,z) = \"\n",
    "\n",
    "bSurf_bottom_func_str=np.empty(numYLocs_BSurfInt, dtype=object)\n",
    "#bSurf_left_func_str=np.empty(numYLocs_BSurfInt, dtype=object)\n",
    "bSurf_top_func_str=np.empty(numYLocs_BSurfInt, dtype=object)\n",
    "#bSurf_right_func_str=np.empty(numYLocs_BSurfInt, dtype=object)\n",
    "\n",
    "for l in range(0, numYLocs_BSurfInt):\n",
    "    bSurf_bottom_func_str[l] = \"\\\" (x > -Lx/2. - tiny) * (x < Lx/2. + tiny) * (y > \" + bSurfName[l*numSurfsPerYLoc_BSurfInt+0] + \"_Loc - dy/2. - tiny ) * (y < \" + bSurfName[l*numSurfsPerYLoc_BSurfInt+0] + \"_Loc + tiny) * (z > sub_thick - dz - tiny) * ( z < sub_thick) *1\\\"\"\n",
    "#    bSurf_left_func_str[l] = \"\\\" (x > -strip_width/2. - dz - tiny) * (x < -strip_width/2.-tiny) * (y > \" + bSurfName[l*numSurfsPerYLoc_BSurfInt+1] + \"_Loc - dy/2. - tiny ) * (y < \" + bSurfName[l*numSurfsPerYLoc_BSurfInt+1] + \"_Loc + tiny) * (z > sub_thick - dz/2.-tiny) * ( z < sub_thick + dz/2.+tiny) *1\\\"\"\n",
    "    bSurf_top_func_str[l] = \"\\\" (x > -Lx/2.  - tiny) * (x < Lx/2. + tiny) * (y > \" + bSurfName[l*numSurfsPerYLoc_BSurfInt+1] + \"_Loc - dy/2. - tiny ) * (y < \" + bSurfName[l*numSurfsPerYLoc_BSurfInt+1] + \"_Loc + tiny) * (z > sub_thick) * ( z < sub_thick + dz + tiny) *1\\\"\"\n",
    "#    bSurf_right_func_str[l] = \"\\\" (x > strip_width/2.+tiny) * (x < strip_width/2. + dz + tiny) * (y > \" + bSurfName[l*numSurfsPerYLoc_BSurfInt+3] + \"_Loc - dy/2. - tiny ) * (y < \" + bSurfName[l*numSurfsPerYLoc_BSurfInt+3] + \"_Loc + tiny) * (z > sub_thick - dz/2.-tiny) * ( z < sub_thick + dz/2.+tiny) *1\\\"\"\n",
    "\n",
    "for l in range(0, 2):\n",
    "    print('*******************************************')\n",
    "    print('bottom surface', bSurf_bottom_func_str[l])\n",
    "#    print('\\nright surface', bSurf_right_func_str[l])\n",
    "    print('\\ntop surface', bSurf_top_func_str[l])\n",
    "#    print('\\nleft surface', bSurf_left_func_str[l])"
   ]
  },
  {
   "cell_type": "markdown",
   "metadata": {},
   "source": [
    "# Define EField volume integral using FieldReduction"
   ]
  },
  {
   "cell_type": "code",
   "execution_count": 46,
   "metadata": {},
   "outputs": [
    {
     "name": "stdout",
     "output_type": "stream",
     "text": [
      "EVolume1 \n"
     ]
    }
   ],
   "source": [
    "eVolumeName = np.empty(numEVolumes,dtype=object)\n",
    "reduced_diags_names_efield_volume_str = ''\n",
    "for v in range(0, numEVolumes):\n",
    "    eVolumeName[v] = 'EVolume' + str(v+1)\n",
    "    reduced_diags_names_efield_volume_str += eVolumeName[v] + ' '\n",
    "print(reduced_diags_names_efield_volume_str)\n",
    "\n",
    "efield_type_str =  \".type = FieldReduction\"\n",
    "efield_inter_str = \".intervals = 1\"\n",
    "efield_red_type_str = \".reduction_type = integral\"\n",
    "efield_red_func_name_str = \".reduced_function(x,y,z,Ex,Ey,Ez,Bx,By,Bz) = \"\n",
    "efield_full_volume_func_str = \"\\\"if(z < sub_thick, 0.5*(Ex**2 + Ey**2 + Ez**2)*eps_0*eps_r_alumina, 0.5*(Ex**2 + Ey**2 + Ez**2)*eps_0*eps_r_air)\\\"\""
   ]
  },
  {
   "cell_type": "markdown",
   "metadata": {},
   "source": [
    "# Define BField volume integral using FieldReduction"
   ]
  },
  {
   "cell_type": "code",
   "execution_count": 47,
   "metadata": {},
   "outputs": [
    {
     "name": "stdout",
     "output_type": "stream",
     "text": [
      "BVolume1 \n"
     ]
    }
   ],
   "source": [
    "bVolumeName = np.empty(numBVolumes,dtype=object)\n",
    "reduced_diags_names_bfield_volume_str = ''\n",
    "for v in range(0, numBVolumes):\n",
    "    bVolumeName[v] = 'BVolume' + str(v+1)\n",
    "    reduced_diags_names_bfield_volume_str += bVolumeName[v] + ' '\n",
    "print(reduced_diags_names_bfield_volume_str)\n",
    "\n",
    "bfield_type_str =  \".type = FieldReduction\"\n",
    "bfield_inter_str = \".intervals = 1\"\n",
    "bfield_red_type_str = \".reduction_type = integral\"\n",
    "bfield_red_func_name_str = \".reduced_function(x,y,z,Ex,Ey,Ez,Bx,By,Bz) = \"\n",
    "bfield_full_volume_func_str = \"\\\"0.5*(Bx**2+By**2+Bz**2)/mu_0\\\"\""
   ]
  },
  {
   "cell_type": "markdown",
   "metadata": {},
   "source": [
    "# Final Print"
   ]
  },
  {
   "cell_type": "code",
   "execution_count": 48,
   "metadata": {},
   "outputs": [
    {
     "name": "stdout",
     "output_type": "stream",
     "text": [
      "warpx.reduced_diags_names = ESurf_L1S1 ESurf_L2S1 ESurf_L3S1 ESurf_L4S1 ESurf_L5S1 ESurf_L6S1 ESurf_L7S1 ESurf_L8S1 ESurf_L9S1 ESurf_L10S1 ESurf_L11S1 ESurf_L12S1 ESurf_L13S1 ESurf_L14S1 ESurf_L15S1 ESurf_L16S1 ESurf_L17S1 ESurf_L18S1 ESurf_L19S1 ESurf_L20S1 ESurf_L21S1 ESurf_L22S1 ESurf_L23S1 ESurf_L24S1 ESurf_L25S1 ESurf_L26S1 ESurf_L27S1 ESurf_L28S1 ESurf_L29S1 ESurf_L30S1 ESurf_L31S1 ESurf_L32S1 ESurf_L33S1 ESurf_L34S1 ESurf_L35S1 ESurf_L36S1 ESurf_L37S1 ESurf_L38S1 ESurf_L39S1 ESurf_L40S1 ESurf_L41S1 BSurf_L1S1 BSurf_L1S2 BSurf_L2S1 BSurf_L2S2 BSurf_L3S1 BSurf_L3S2 BSurf_L4S1 BSurf_L4S2 BSurf_L5S1 BSurf_L5S2 BSurf_L6S1 BSurf_L6S2 BSurf_L7S1 BSurf_L7S2 BSurf_L8S1 BSurf_L8S2 BSurf_L9S1 BSurf_L9S2 BSurf_L10S1 BSurf_L10S2 BSurf_L11S1 BSurf_L11S2 BSurf_L12S1 BSurf_L12S2 BSurf_L13S1 BSurf_L13S2 BSurf_L14S1 BSurf_L14S2 BSurf_L15S1 BSurf_L15S2 BSurf_L16S1 BSurf_L16S2 BSurf_L17S1 BSurf_L17S2 BSurf_L18S1 BSurf_L18S2 BSurf_L19S1 BSurf_L19S2 BSurf_L20S1 BSurf_L20S2 BSurf_L21S1 BSurf_L21S2 BSurf_L22S1 BSurf_L22S2 BSurf_L23S1 BSurf_L23S2 BSurf_L24S1 BSurf_L24S2 BSurf_L25S1 BSurf_L25S2 BSurf_L26S1 BSurf_L26S2 BSurf_L27S1 BSurf_L27S2 BSurf_L28S1 BSurf_L28S2 BSurf_L29S1 BSurf_L29S2 BSurf_L30S1 BSurf_L30S2 BSurf_L31S1 BSurf_L31S2 BSurf_L32S1 BSurf_L32S2 BSurf_L33S1 BSurf_L33S2 BSurf_L34S1 BSurf_L34S2 BSurf_L35S1 BSurf_L35S2 BSurf_L36S1 BSurf_L36S2 BSurf_L37S1 BSurf_L37S2 BSurf_L38S1 BSurf_L38S2 BSurf_L39S1 BSurf_L39S2 BSurf_L40S1 BSurf_L40S2 BSurf_L41S1 BSurf_L41S2 EVolume1 BVolume1 \n"
     ]
    }
   ],
   "source": [
    "reduced_diags_final_str = reduced_diags_name_str\n",
    "if(flag_define_ESurfInt):\n",
    "    reduced_diags_final_str += reduced_diags_names_efield_surface_str\n",
    "if(flag_define_BSurfInt):\n",
    "    reduced_diags_final_str += reduced_diags_names_bfield_surface_str\n",
    "if(flag_define_EVolumeInt):\n",
    "    reduced_diags_final_str += reduced_diags_names_efield_volume_str\n",
    "if(flag_define_BVolumeInt):\n",
    "    reduced_diags_final_str += reduced_diags_names_bfield_volume_str\n",
    "print(reduced_diags_final_str)"
   ]
  },
  {
   "cell_type": "code",
   "execution_count": 49,
   "metadata": {},
   "outputs": [],
   "source": [
    "with open(fileName, 'w') as f:\n",
    "    print(reduced_diags_final_str,file=f)\n",
    "    print('\\n',file=f)\n",
    "    if(flag_define_ESurfInt):\n",
    "        print('### Defining surfaces for E-field surface integrals to obtain voltages ###',file=f)\n",
    "        for l in range(0, numYLocs_ESurfInt):\n",
    "            print('\\n',file=f)\n",
    "            for s in range(0, numSurfsPerYLoc_ESurfInt):\n",
    "                print('# E-Surface ' + eSurfName[l*numSurfsPerYLoc_ESurfInt+s],file=f)\n",
    "                print('\\n',file=f)\n",
    "                print(eSurfName[l*numSurfsPerYLoc_ESurfInt+s] + eSurf_type_str,file=f)\n",
    "                print(eSurfName[l*numSurfsPerYLoc_ESurfInt+s] + eSurf_red_type_str,file=f)\n",
    "                print(eSurfName[l*numSurfsPerYLoc_ESurfInt+s] + eSurf_int_type_str,file=f)\n",
    "                print(eSurfName[l*numSurfsPerYLoc_ESurfInt+s] + eSurf_inter_str,file=f)\n",
    "                print(eSurfName[l*numSurfsPerYLoc_ESurfInt+s] + eSurf_surf_normal_str,file=f)\n",
    "                print(eSurf_const_str + eSurfName[l*numSurfsPerYLoc_ESurfInt+s] + '_Loc = ' + distance_uniform_ESurfInt[l],file=f)\n",
    "                if(s==0):\n",
    "                    print(eSurfName[l*numSurfsPerYLoc_ESurfInt+s] + eSurf_port_mult_vec_str,file=f)\n",
    "                    print(eSurfName[l*numSurfsPerYLoc_ESurfInt+s] + eSurf_red_func_name_str + eSurf_port_func_str[l],file=f)\n",
    "        print('\\n',file=f)\n",
    "    if(flag_define_BSurfInt):\n",
    "        print('### Defining surfaces for B-Field contour integrals to obtain current ###',file=f)\n",
    "        for l in range(0, numYLocs_BSurfInt):\n",
    "            print('\\n',file=f)\n",
    "            for s in range(0, numSurfsPerYLoc_BSurfInt):\n",
    "                print('# B-Surface ' + bSurfName[l*numSurfsPerYLoc_BSurfInt+s],file=f)\n",
    "                print('\\n',file=f)\n",
    "                print(bSurfName[l*numSurfsPerYLoc_BSurfInt+s] + bSurf_type_str,file=f)\n",
    "                print(bSurfName[l*numSurfsPerYLoc_BSurfInt+s] + bSurf_red_type_str,file=f)\n",
    "                print(bSurfName[l*numSurfsPerYLoc_BSurfInt+s] + bSurf_int_type_str,file=f)\n",
    "                print(bSurfName[l*numSurfsPerYLoc_BSurfInt+s] + bSurf_inter_str,file=f)\n",
    "                print(bSurfName[l*numSurfsPerYLoc_BSurfInt+s] + bSurf_surf_normal_str,file=f)\n",
    "                print(bSurf_const_str + bSurfName[l*numSurfsPerYLoc_BSurfInt+s] + '_Loc = ' + distance_uniform_BSurfInt[l],file=f)\n",
    "                if(s==0):\n",
    "                    print(bSurfName[l*numSurfsPerYLoc_BSurfInt+s] + bSurf_bottom_mult_vec_str,file=f)\n",
    "                    print(bSurfName[l*numSurfsPerYLoc_BSurfInt+s] + bSurf_red_func_name_str + bSurf_bottom_func_str[l],file=f)\n",
    "#                elif(s==1):\n",
    "#                    print(bSurfName[l*numSurfsPerYLoc_BSurfInt+s] + bSurf_left_mult_vec_str,file=f)\n",
    "#                    print(bSurfName[l*numSurfsPerYLoc_BSurfInt+s] + bSurf_red_func_name_str + bSurf_left_func_str[l],file=f)\n",
    "                elif(s==1):\n",
    "                    print(bSurfName[l*numSurfsPerYLoc_BSurfInt+s] + bSurf_top_mult_vec_str,file=f)\n",
    "                    print(bSurfName[l*numSurfsPerYLoc_BSurfInt+s] + bSurf_red_func_name_str + bSurf_top_func_str[l],file=f)\n",
    "#                elif(s==3):\n",
    "#                    print(bSurfName[l*numSurfsPerYLoc_BSurfInt+s] + bSurf_right_mult_vec_str,file=f)\n",
    "#                    print(bSurfName[l*numSurfsPerYLoc_BSurfInt+s] + bSurf_red_func_name_str + bSurf_right_func_str[l],file=f)\n",
    "        print('\\n',file=f)\n",
    "    if(flag_define_EVolumeInt):\n",
    "        print('### Defining volumes for E-Field volume integrals to obtain stored magnetic energy ###',file=f)\n",
    "        for v in range (0,numEVolumes):\n",
    "            print('\\n',file=f)\n",
    "            print(eVolumeName[v] + efield_type_str,file=f)\n",
    "            print(eVolumeName[v] + efield_inter_str,file=f)\n",
    "            print(eVolumeName[v] + efield_red_type_str,file=f)\n",
    "            print(eVolumeName[v] + efield_red_func_name_str + efield_full_volume_func_str,file=f)\n",
    "        print('\\n',file=f)\n",
    "    if(flag_define_BVolumeInt):\n",
    "        print('### Defining volumes for B-Field volume integrals to obtain stored magnetic energy ###',file=f)\n",
    "        for v in range (0,numBVolumes):\n",
    "            print('\\n',file=f)\n",
    "            print(bVolumeName[v] + bfield_type_str,file=f)\n",
    "            print(bVolumeName[v] + bfield_inter_str,file=f)\n",
    "            print(bVolumeName[v] + bfield_red_type_str,file=f)\n",
    "            print(bVolumeName[v] + bfield_red_func_name_str + bfield_full_volume_func_str,file=f)"
   ]
  },
  {
   "cell_type": "code",
   "execution_count": null,
   "metadata": {},
   "outputs": [],
   "source": []
  },
  {
   "cell_type": "code",
   "execution_count": null,
   "metadata": {},
   "outputs": [],
   "source": []
  },
  {
   "cell_type": "code",
   "execution_count": null,
   "metadata": {},
   "outputs": [],
   "source": []
  }
 ],
 "metadata": {
  "kernelspec": {
   "display_name": "Python 3",
   "language": "python",
   "name": "python3"
  },
  "language_info": {
   "codemirror_mode": {
    "name": "ipython",
    "version": 3
   },
   "file_extension": ".py",
   "mimetype": "text/x-python",
   "name": "python",
   "nbconvert_exporter": "python",
   "pygments_lexer": "ipython3",
   "version": "3.8.10"
  }
 },
 "nbformat": 4,
 "nbformat_minor": 4
}
